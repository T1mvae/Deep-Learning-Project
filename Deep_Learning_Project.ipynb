{
 "cells": [
  {
   "cell_type": "markdown",
   "metadata": {},
   "source": [
    "Importing libraries"
   ]
  },
  {
   "cell_type": "code",
   "execution_count": null,
   "metadata": {},
   "outputs": [
    {
     "name": "stderr",
     "output_type": "stream",
     "text": [
      "2024-12-05 10:02:17.320919: I tensorflow/core/platform/cpu_feature_guard.cc:210] This TensorFlow binary is optimized to use available CPU instructions in performance-critical operations.\n",
      "To enable the following instructions: AVX2 FMA, in other operations, rebuild TensorFlow with the appropriate compiler flags.\n",
      "[nltk_data] Downloading package stopwords to\n",
      "[nltk_data]     /Users/timkuz/nltk_data...\n",
      "[nltk_data]   Package stopwords is already up-to-date!\n"
     ]
    }
   ],
   "source": [
    "import numpy as np\n",
    "import pandas as pd\n",
    "\n",
    "# Pre-processing\n",
    "import tensorflow as tf\n",
    "from tensorflow.keras.preprocessing.text import Tokenizer\n",
    "from tensorflow.keras.preprocessing.sequence import pad_sequences\n",
    "from tensorflow.keras.preprocessing.image import ImageDataGenerator\n",
    "from tensorflow.keras.callbacks import EarlyStopping\n",
    "import cv2\n",
    "from tensorflow.keras.utils import to_categorical\n",
    "# Modeling\n",
    "from tensorflow.keras.models import Sequential\n",
    "from tensorflow.keras.layers import LSTM, GRU, Dense, Embedding, Dropout, GlobalAveragePooling1D, Flatten, SpatialDropout1D, Bidirectional, Conv2D, MaxPooling2D\n",
    "\n",
    "import matplotlib.pyplot as plt\n",
    "\n",
    "from sklearn.model_selection import train_test_split\n",
    "\n",
    "\n",
    "import nltk\n",
    "from nltk.corpus import stopwords\n",
    "nltk.download('stopwords')\n",
    "import re"
   ]
  },
  {
   "cell_type": "markdown",
   "metadata": {},
   "source": [
    "Importing dataset"
   ]
  },
  {
   "cell_type": "code",
   "execution_count": null,
   "metadata": {},
   "outputs": [],
   "source": [
    "data = pd.read_csv('BreaKHis_v1/histology_slides/breast/image_data.csv')"
   ]
  },
  {
   "cell_type": "markdown",
   "metadata": {},
   "source": [
    "Check the dataset"
   ]
  },
  {
   "cell_type": "code",
   "execution_count": null,
   "metadata": {},
   "outputs": [
    {
     "data": {
      "text/html": [
       "<div>\n",
       "<style scoped>\n",
       "    .dataframe tbody tr th:only-of-type {\n",
       "        vertical-align: middle;\n",
       "    }\n",
       "\n",
       "    .dataframe tbody tr th {\n",
       "        vertical-align: top;\n",
       "    }\n",
       "\n",
       "    .dataframe thead th {\n",
       "        text-align: right;\n",
       "    }\n",
       "</style>\n",
       "<table border=\"1\" class=\"dataframe\">\n",
       "  <thead>\n",
       "    <tr style=\"text-align: right;\">\n",
       "      <th></th>\n",
       "      <th>path_to_image</th>\n",
       "      <th>Benign or Malignant</th>\n",
       "      <th>Cancer Type</th>\n",
       "      <th>Magnification</th>\n",
       "    </tr>\n",
       "  </thead>\n",
       "  <tbody>\n",
       "    <tr>\n",
       "      <th>0</th>\n",
       "      <td>BreaKHis_v1/histology_slides/breast/benign/SOB...</td>\n",
       "      <td>Benign</td>\n",
       "      <td>Adenosis</td>\n",
       "      <td>100X</td>\n",
       "    </tr>\n",
       "    <tr>\n",
       "      <th>1</th>\n",
       "      <td>BreaKHis_v1/histology_slides/breast/benign/SOB...</td>\n",
       "      <td>Benign</td>\n",
       "      <td>Adenosis</td>\n",
       "      <td>100X</td>\n",
       "    </tr>\n",
       "    <tr>\n",
       "      <th>2</th>\n",
       "      <td>BreaKHis_v1/histology_slides/breast/benign/SOB...</td>\n",
       "      <td>Benign</td>\n",
       "      <td>Adenosis</td>\n",
       "      <td>100X</td>\n",
       "    </tr>\n",
       "    <tr>\n",
       "      <th>3</th>\n",
       "      <td>BreaKHis_v1/histology_slides/breast/benign/SOB...</td>\n",
       "      <td>Benign</td>\n",
       "      <td>Adenosis</td>\n",
       "      <td>100X</td>\n",
       "    </tr>\n",
       "    <tr>\n",
       "      <th>4</th>\n",
       "      <td>BreaKHis_v1/histology_slides/breast/benign/SOB...</td>\n",
       "      <td>Benign</td>\n",
       "      <td>Adenosis</td>\n",
       "      <td>100X</td>\n",
       "    </tr>\n",
       "  </tbody>\n",
       "</table>\n",
       "</div>"
      ],
      "text/plain": [
       "                                       path_to_image Benign or Malignant  \\\n",
       "0  BreaKHis_v1/histology_slides/breast/benign/SOB...              Benign   \n",
       "1  BreaKHis_v1/histology_slides/breast/benign/SOB...              Benign   \n",
       "2  BreaKHis_v1/histology_slides/breast/benign/SOB...              Benign   \n",
       "3  BreaKHis_v1/histology_slides/breast/benign/SOB...              Benign   \n",
       "4  BreaKHis_v1/histology_slides/breast/benign/SOB...              Benign   \n",
       "\n",
       "  Cancer Type Magnification  \n",
       "0    Adenosis          100X  \n",
       "1    Adenosis          100X  \n",
       "2    Adenosis          100X  \n",
       "3    Adenosis          100X  \n",
       "4    Adenosis          100X  "
      ]
     },
     "execution_count": 3,
     "metadata": {},
     "output_type": "execute_result"
    }
   ],
   "source": [
    "data.head()"
   ]
  },
  {
   "cell_type": "code",
   "execution_count": 6,
   "metadata": {},
   "outputs": [
    {
     "name": "stdout",
     "output_type": "stream",
     "text": [
      "<class 'pandas.core.frame.DataFrame'>\n",
      "RangeIndex: 7909 entries, 0 to 7908\n",
      "Data columns (total 4 columns):\n",
      " #   Column               Non-Null Count  Dtype \n",
      "---  ------               --------------  ----- \n",
      " 0   path_to_image        7909 non-null   object\n",
      " 1   Benign or Malignant  7906 non-null   object\n",
      " 2   Cancer Type          7905 non-null   object\n",
      " 3   Magnification        7905 non-null   object\n",
      "dtypes: object(4)\n",
      "memory usage: 247.3+ KB\n"
     ]
    }
   ],
   "source": [
    "data.info()"
   ]
  },
  {
   "cell_type": "markdown",
   "metadata": {},
   "source": [
    "Clean dataset from null values"
   ]
  },
  {
   "cell_type": "code",
   "execution_count": 7,
   "metadata": {},
   "outputs": [],
   "source": [
    "data_cleaned = data.dropna(subset=['Benign or Malignant', 'Cancer Type'])"
   ]
  },
  {
   "cell_type": "code",
   "execution_count": 8,
   "metadata": {},
   "outputs": [
    {
     "name": "stdout",
     "output_type": "stream",
     "text": [
      "<class 'pandas.core.frame.DataFrame'>\n",
      "Index: 7905 entries, 0 to 7908\n",
      "Data columns (total 4 columns):\n",
      " #   Column               Non-Null Count  Dtype \n",
      "---  ------               --------------  ----- \n",
      " 0   path_to_image        7905 non-null   object\n",
      " 1   Benign or Malignant  7905 non-null   object\n",
      " 2   Cancer Type          7905 non-null   object\n",
      " 3   Magnification        7905 non-null   object\n",
      "dtypes: object(4)\n",
      "memory usage: 308.8+ KB\n"
     ]
    }
   ],
   "source": [
    "data_cleaned.info()"
   ]
  },
  {
   "cell_type": "markdown",
   "metadata": {},
   "source": [
    "Loading and preprocessing images"
   ]
  },
  {
   "cell_type": "code",
   "execution_count": 9,
   "metadata": {},
   "outputs": [],
   "source": [
    "image_paths = data_cleaned['path_to_image']"
   ]
  },
  {
   "cell_type": "code",
   "execution_count": null,
   "metadata": {},
   "outputs": [],
   "source": [
    "def load_and_preprocess_images(image_paths, target_size = (244,244)):\n",
    "    images = []\n",
    "    \n",
    "    for i, path in enumerate(image_paths):\n",
    "        #print(f\"Обрабатывается путь {i + 1}/{len(image_paths)}: {path}\")\n",
    "\n",
    "        # Load image\n",
    "        image = cv2.imread(path)\n",
    "        \n",
    "        # Resize image to target size\n",
    "        h, w = image.shape[:2]\n",
    "        scale = min(target_size[0] / h, target_size[1] / w)\n",
    "        new_size = (int(w * scale), int(h * scale))\n",
    "        resized_image = cv2.resize(image, new_size)\n",
    "\n",
    "        # Normalize pixel values to [0, 1]\n",
    "        resized_image = resized_image / 255.0\n",
    "        images.append(resized_image)\n",
    "        #print(f\"Путь обработан {i + 1}/{len(image_paths)}: {path}\")\n",
    "    \n",
    "    return images\n"
   ]
  },
  {
   "cell_type": "code",
   "execution_count": 10,
   "metadata": {},
   "outputs": [
    {
     "name": "stderr",
     "output_type": "stream",
     "text": [
      "/var/folders/f2/5_t719y12k71w48gv5m_mm2c0000gn/T/ipykernel_9664/2647882338.py:1: SettingWithCopyWarning: \n",
      "A value is trying to be set on a copy of a slice from a DataFrame.\n",
      "Try using .loc[row_indexer,col_indexer] = value instead\n",
      "\n",
      "See the caveats in the documentation: https://pandas.pydata.org/pandas-docs/stable/user_guide/indexing.html#returning-a-view-versus-a-copy\n",
      "  data_cleaned['images'] = load_and_preprocess_images(image_paths)\n"
     ]
    }
   ],
   "source": [
    "data_cleaned['images'] = load_and_preprocess_images(image_paths)"
   ]
  },
  {
   "cell_type": "code",
   "execution_count": 11,
   "metadata": {},
   "outputs": [],
   "source": [
    "data_cleaned = data_cleaned.drop(columns = ['path_to_image','Magnification'])"
   ]
  },
  {
   "cell_type": "code",
   "execution_count": null,
   "metadata": {},
   "outputs": [],
   "source": [
    "data_cleaned['Benign or Malignant'] = data_cleaned['Benign or Malignant'].map({'Benign': 0, 'Malignant': 1})\n",
    "data_cleaned['Cancer Type'] = data_cleaned['Cancer Type'].astype('category').cat.codes"
   ]
  },
  {
   "cell_type": "markdown",
   "metadata": {},
   "source": [
    "    Part1 - Binary"
   ]
  },
  {
   "cell_type": "code",
   "execution_count": 13,
   "metadata": {},
   "outputs": [],
   "source": [
    "# Split for binary classification\n",
    "X_train_binary, X_val_binary, y_train_binary, y_val_binary = train_test_split(\n",
    "    data_cleaned['images'], data_cleaned['Benign or Malignant'], test_size=0.2, random_state=42, stratify=data_cleaned['Benign or Malignant'])"
   ]
  },
  {
   "cell_type": "code",
   "execution_count": null,
   "metadata": {},
   "outputs": [],
   "source": []
  },
  {
   "cell_type": "markdown",
   "metadata": {},
   "source": [
    "Part2 - Multiclass"
   ]
  },
  {
   "cell_type": "code",
   "execution_count": 21,
   "metadata": {},
   "outputs": [],
   "source": [
    "# Split for multiclass classification\n",
    "X_train_multiclass, X_val_multiclass, y_train_multiclass, y_val_multiclass = train_test_split(\n",
    "    data_cleaned['images'], data_cleaned['Cancer Type'], test_size=0.2, random_state=42, stratify=data_cleaned['Cancer Type'])\n",
    "\n",
    "# Convert labels to categorical\n",
    "y_train_multiclass = to_categorical(y_train_multiclass, num_classes=8)\n",
    "y_val_multiclass = to_categorical(y_val_multiclass, num_classes=8)"
   ]
  },
  {
   "cell_type": "code",
   "execution_count": null,
   "metadata": {},
   "outputs": [],
   "source": []
  }
 ],
 "metadata": {
  "kernelspec": {
   "display_name": "Python 3",
   "language": "python",
   "name": "python3"
  },
  "language_info": {
   "codemirror_mode": {
    "name": "ipython",
    "version": 3
   },
   "file_extension": ".py",
   "mimetype": "text/x-python",
   "name": "python",
   "nbconvert_exporter": "python",
   "pygments_lexer": "ipython3",
   "version": "3.11.8"
  }
 },
 "nbformat": 4,
 "nbformat_minor": 2
}
